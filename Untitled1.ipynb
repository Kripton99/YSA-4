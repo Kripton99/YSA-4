{
  "nbformat": 4,
  "nbformat_minor": 0,
  "metadata": {
    "colab": {
      "provenance": []
    },
    "kernelspec": {
      "name": "python3",
      "display_name": "Python 3"
    },
    "language_info": {
      "name": "python"
    }
  },
  "cells": [
    {
      "cell_type": "code",
      "source": [
        "import torch\n",
        "import numpy as np\n",
        "torch.manual_seed(1)\n",
        "# Tanh aktivasyon fonksiyonunu kendi fonksiyonumuzla tanımlama\n",
        "def tanh(x):\n",
        "    return (torch.exp(x) - torch.exp(-x)) / (torch.exp(x) + torch.exp(-x))\n",
        "\n",
        "# Sigmoid aktivasyon fonksiyonunu kendi fonksiyonumuzla tanımlama\n",
        "def sigmoid(x):\n",
        "    return 1 / (1 + torch.exp(-x))\n",
        "\n",
        "# Yapay sinir ağı modelini tanımlama\n",
        "class NeuralNetwork(torch.nn.Module):\n",
        "    def __init__(self):\n",
        "        super(NeuralNetwork, self).__init__()\n",
        "        self.hidden_layer = torch.nn.Linear(3, 50)\n",
        "        self.output_layer = torch.nn.Linear(50, 1)\n",
        "\n",
        "    def forward(self, x):\n",
        "        x = tanh(self.hidden_layer(x))\n",
        "        x = sigmoid(self.output_layer(x))\n",
        "        return x\n",
        "\n",
        "# Girdi tensörünü tanımlama (2 örnek, her biri 3 özellik içerir)\n",
        "input_tensor = torch.tensor(np.array([[1, 2, 3], [4, 5, 6]], dtype=np.float32))\n",
        "\n",
        "# Modeli oluşturma ve çıkış hesaplama\n",
        "model = NeuralNetwork()\n",
        "output = model(input_tensor)\n",
        "\n",
        "# Çıkışı yazdırma\n",
        "print(output)"
      ],
      "metadata": {
        "colab": {
          "base_uri": "https://localhost:8080/"
        },
        "id": "Fw_cyv-6sIj8",
        "outputId": "77149cd0-6b62-4c5e-a67d-a871aa08d0b1"
      },
      "execution_count": 2,
      "outputs": [
        {
          "output_type": "stream",
          "name": "stdout",
          "text": [
            "tensor([[0.4892],\n",
            "        [0.5566]], grad_fn=<MulBackward0>)\n"
          ]
        }
      ]
    },
    {
      "cell_type": "code",
      "execution_count": 1,
      "metadata": {
        "colab": {
          "base_uri": "https://localhost:8080/"
        },
        "id": "dl8KVoAkr_XG",
        "outputId": "cad472dc-46a4-4e25-dfc0-a09113da8084"
      },
      "outputs": [
        {
          "output_type": "stream",
          "name": "stdout",
          "text": [
            "tensor([[0.5310],\n",
            "        [0.4689]], grad_fn=<MulBackward0>)\n"
          ]
        }
      ],
      "source": [
        "import torch\n",
        "import numpy as np\n",
        "torch.manual_seed(180401027)\n",
        "# Tanh aktivasyon fonksiyonunu kendi fonksiyonumuzla tanımlama\n",
        "def tanh(x):\n",
        "    return (torch.exp(x) - torch.exp(-x)) / (torch.exp(x) + torch.exp(-x))\n",
        "\n",
        "# Sigmoid aktivasyon fonksiyonunu kendi fonksiyonumuzla tanımlama\n",
        "def sigmoid(x):\n",
        "    return 1 / (1 + torch.exp(-x))\n",
        "\n",
        "# Yapay sinir ağı modelini tanımlama\n",
        "class NeuralNetwork(torch.nn.Module):\n",
        "    def __init__(self):\n",
        "        super(NeuralNetwork, self).__init__()\n",
        "        self.hidden_layer = torch.nn.Linear(3, 50)\n",
        "        self.output_layer = torch.nn.Linear(50, 1)\n",
        "\n",
        "    def forward(self, x):\n",
        "        x = tanh(self.hidden_layer(x))\n",
        "        x = sigmoid(self.output_layer(x))\n",
        "        return x\n",
        "\n",
        "# Girdi tensörünü tanımlama (2 örnek, her biri 3 özellik içerir)\n",
        "input_tensor = torch.tensor(np.array([[1, 2, 3], [4, 5, 6]], dtype=np.float32))\n",
        "\n",
        "# Modeli oluşturma ve çıkış hesaplama\n",
        "model = NeuralNetwork()\n",
        "output = model(input_tensor)\n",
        "\n",
        "# Çıkışı yazdırma\n",
        "print(output)"
      ]
    }
  ]
}